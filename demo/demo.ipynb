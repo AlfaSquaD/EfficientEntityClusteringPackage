{
 "cells": [
  {
   "cell_type": "code",
   "execution_count": 1,
   "metadata": {},
   "outputs": [],
   "source": [
    "import eec\n",
    "import numpy as np\n",
    "import gensim\n",
    "import pandas as pd\n",
    "from neo4j import GraphDatabase"
   ]
  },
  {
   "cell_type": "code",
   "execution_count": 2,
   "metadata": {},
   "outputs": [],
   "source": [
    "keyed_vectors = gensim.models.KeyedVectors.load('./data/word2vec.model')"
   ]
  },
  {
   "cell_type": "code",
   "execution_count": 3,
   "metadata": {},
   "outputs": [
    {
     "data": {
      "text/plain": [
       "[('romaine', 0.8329761028289795),\n",
       " ('head', 0.7326541543006897),\n",
       " ('boston', 0.7135635614395142),\n",
       " ('cabbage', 0.7096205353736877),\n",
       " ('rack', 0.6752064228057861),\n",
       " ('spring', 0.6698594093322754),\n",
       " ('turnip', 0.6696361303329468),\n",
       " ('pig', 0.6667503714561462),\n",
       " ('cup', 0.6314897537231445),\n",
       " ('kaffir', 0.6175163388252258)]"
      ]
     },
     "execution_count": 3,
     "metadata": {},
     "output_type": "execute_result"
    }
   ],
   "source": [
    "keyed_vectors.wv.most_similar('lettuce')"
   ]
  },
  {
   "cell_type": "code",
   "execution_count": 4,
   "metadata": {},
   "outputs": [
    {
     "data": {
      "text/plain": [
       "<eec.implementations.neo4j.neo4j_services.neo4j_helper.Neo4JHelper at 0x283d710c0>"
      ]
     },
     "execution_count": 4,
     "metadata": {},
     "output_type": "execute_result"
    }
   ],
   "source": [
    "eec.Neo4JHelper('bolt://localhost:7687', 'neo4j', 'test')"
   ]
  },
  {
   "cell_type": "code",
   "execution_count": 5,
   "metadata": {},
   "outputs": [],
   "source": [
    "entity_repository = eec.Neo4JEntityRepository(\n",
    "    keyed_vectors=keyed_vectors, \n",
    ")"
   ]
  },
  {
   "cell_type": "code",
   "execution_count": 6,
   "metadata": {},
   "outputs": [
    {
     "data": {
      "text/plain": [
       "6eb91db4-370c-4a55-8b46-33383d7bd8ac-lettuce"
      ]
     },
     "execution_count": 6,
     "metadata": {},
     "output_type": "execute_result"
    }
   ],
   "source": [
    "entity_repository.add_entity(\n",
    "    eec.Neo4JEntity(\n",
    "        entity_id='',\n",
    "        entity_source='demo',\n",
    "        entity_source_id='0',\n",
    "        mention='lettuce',\n",
    "        mention_vector=keyed_vectors.wv['lettuce'],\n",
    "        has_mention_vector=True,)\n",
    "\n",
    ")"
   ]
  },
  {
   "cell_type": "code",
   "execution_count": 6,
   "metadata": {},
   "outputs": [
    {
     "ename": "NotFoundException",
     "evalue": "Entity with id 036cd15e-13ce-4aa7-9cdc-89ef9afb7dab not found",
     "output_type": "error",
     "traceback": [
      "\u001b[0;31m---------------------------------------------------------------------------\u001b[0m",
      "\u001b[0;31mNotFoundException\u001b[0m                         Traceback (most recent call last)",
      "Cell \u001b[0;32mIn[6], line 1\u001b[0m\n\u001b[0;32m----> 1\u001b[0m entity_repository\u001b[39m.\u001b[39;49mget_entity_by_id(\u001b[39m'\u001b[39;49m\u001b[39m036cd15e-13ce-4aa7-9cdc-89ef9afb7dab\u001b[39;49m\u001b[39m'\u001b[39;49m)\n",
      "File \u001b[0;32m/opt/miniconda3/envs/eec/lib/python3.10/site-packages/eec/implementations/neo4j/repositories/neo4j_entity_repository.py:27\u001b[0m, in \u001b[0;36mNeo4JEntityRepository.get_entity_by_id\u001b[0;34m(self, entity_id)\u001b[0m\n\u001b[1;32m     24\u001b[0m result \u001b[39m=\u001b[39m \u001b[39mself\u001b[39m\u001b[39m.\u001b[39mneo4j_helper\u001b[39m.\u001b[39mrun_query(\n\u001b[1;32m     25\u001b[0m     Neo4J_GetEntityByIdHelper(entity_id))\n\u001b[1;32m     26\u001b[0m \u001b[39mif\u001b[39;00m result[\u001b[39m'\u001b[39m\u001b[39mentity\u001b[39m\u001b[39m'\u001b[39m] \u001b[39mis\u001b[39;00m \u001b[39mNone\u001b[39;00m:\n\u001b[0;32m---> 27\u001b[0m     \u001b[39mraise\u001b[39;00m NotFoundException(\u001b[39mf\u001b[39m\u001b[39m\"\u001b[39m\u001b[39mEntity with id \u001b[39m\u001b[39m{\u001b[39;00mentity_id\u001b[39m}\u001b[39;00m\u001b[39m not found\u001b[39m\u001b[39m\"\u001b[39m)\n\u001b[1;32m     28\u001b[0m \u001b[39mreturn\u001b[39;00m cast(Neo4JEntity, result[\u001b[39m'\u001b[39m\u001b[39mentity\u001b[39m\u001b[39m'\u001b[39m])\n",
      "\u001b[0;31mNotFoundException\u001b[0m: Entity with id 036cd15e-13ce-4aa7-9cdc-89ef9afb7dab not found"
     ]
    }
   ],
   "source": [
    "entity_repository.get_entity_by_id('036cd15e-13ce-4aa7-9cdc-89ef9afb7dab')"
   ]
  },
  {
   "cell_type": "code",
   "execution_count": 8,
   "metadata": {},
   "outputs": [
    {
     "data": {
      "text/html": [
       "<div>\n",
       "<style scoped>\n",
       "    .dataframe tbody tr th:only-of-type {\n",
       "        vertical-align: middle;\n",
       "    }\n",
       "\n",
       "    .dataframe tbody tr th {\n",
       "        vertical-align: top;\n",
       "    }\n",
       "\n",
       "    .dataframe thead th {\n",
       "        text-align: right;\n",
       "    }\n",
       "</style>\n",
       "<table border=\"1\" class=\"dataframe\">\n",
       "  <thead>\n",
       "    <tr style=\"text-align: right;\">\n",
       "      <th></th>\n",
       "      <th>id</th>\n",
       "      <th>phrase</th>\n",
       "      <th>target</th>\n",
       "      <th>id_phrase</th>\n",
       "    </tr>\n",
       "  </thead>\n",
       "  <tbody>\n",
       "    <tr>\n",
       "      <th>0</th>\n",
       "      <td>4308</td>\n",
       "      <td>medium heads bibb or red leaf lettuce, washed,...</td>\n",
       "      <td>lettuce</td>\n",
       "      <td>0</td>\n",
       "    </tr>\n",
       "    <tr>\n",
       "      <th>1</th>\n",
       "      <td>4308</td>\n",
       "      <td>mixed baby lettuces and spring greens</td>\n",
       "      <td>lettuce</td>\n",
       "      <td>1</td>\n",
       "    </tr>\n",
       "    <tr>\n",
       "      <th>2</th>\n",
       "      <td>4308</td>\n",
       "      <td>romaine lettuce leaf</td>\n",
       "      <td>lettuce</td>\n",
       "      <td>2</td>\n",
       "    </tr>\n",
       "    <tr>\n",
       "      <th>3</th>\n",
       "      <td>4308</td>\n",
       "      <td>iceberg lettuce leaf</td>\n",
       "      <td>lettuce</td>\n",
       "      <td>3</td>\n",
       "    </tr>\n",
       "    <tr>\n",
       "      <th>4</th>\n",
       "      <td>4308</td>\n",
       "      <td>red romaine lettuce</td>\n",
       "      <td>lettuce</td>\n",
       "      <td>4</td>\n",
       "    </tr>\n",
       "    <tr>\n",
       "      <th>...</th>\n",
       "      <td>...</td>\n",
       "      <td>...</td>\n",
       "      <td>...</td>\n",
       "      <td>...</td>\n",
       "    </tr>\n",
       "    <tr>\n",
       "      <th>11654</th>\n",
       "      <td>6702</td>\n",
       "      <td>soybeans</td>\n",
       "      <td>soybean</td>\n",
       "      <td>11654</td>\n",
       "    </tr>\n",
       "    <tr>\n",
       "      <th>11655</th>\n",
       "      <td>3318</td>\n",
       "      <td>goose</td>\n",
       "      <td>goose</td>\n",
       "      <td>11655</td>\n",
       "    </tr>\n",
       "    <tr>\n",
       "      <th>11656</th>\n",
       "      <td>47</td>\n",
       "      <td>ajwain</td>\n",
       "      <td>ajwain</td>\n",
       "      <td>11656</td>\n",
       "    </tr>\n",
       "    <tr>\n",
       "      <th>11657</th>\n",
       "      <td>750</td>\n",
       "      <td>brinjals</td>\n",
       "      <td>brinjal</td>\n",
       "      <td>11657</td>\n",
       "    </tr>\n",
       "    <tr>\n",
       "      <th>11658</th>\n",
       "      <td>4061</td>\n",
       "      <td>khoya</td>\n",
       "      <td>khoya</td>\n",
       "      <td>11658</td>\n",
       "    </tr>\n",
       "  </tbody>\n",
       "</table>\n",
       "<p>11659 rows × 4 columns</p>\n",
       "</div>"
      ],
      "text/plain": [
       "         id                                             phrase   target  \\\n",
       "0      4308  medium heads bibb or red leaf lettuce, washed,...  lettuce   \n",
       "1      4308              mixed baby lettuces and spring greens  lettuce   \n",
       "2      4308                               romaine lettuce leaf  lettuce   \n",
       "3      4308                               iceberg lettuce leaf  lettuce   \n",
       "4      4308                                red romaine lettuce  lettuce   \n",
       "...     ...                                                ...      ...   \n",
       "11654  6702                                           soybeans  soybean   \n",
       "11655  3318                                              goose    goose   \n",
       "11656    47                                             ajwain   ajwain   \n",
       "11657   750                                           brinjals  brinjal   \n",
       "11658  4061                                              khoya    khoya   \n",
       "\n",
       "       id_phrase  \n",
       "0              0  \n",
       "1              1  \n",
       "2              2  \n",
       "3              3  \n",
       "4              4  \n",
       "...          ...  \n",
       "11654      11654  \n",
       "11655      11655  \n",
       "11656      11656  \n",
       "11657      11657  \n",
       "11658      11658  \n",
       "\n",
       "[11659 rows x 4 columns]"
      ]
     },
     "execution_count": 8,
     "metadata": {},
     "output_type": "execute_result"
    }
   ],
   "source": [
    "food_com_df = pd.read_csv('./data/all.csv')\n",
    "food_com_df"
   ]
  },
  {
   "cell_type": "code",
   "execution_count": 9,
   "metadata": {},
   "outputs": [],
   "source": [
    "entities : list[eec.Neo4JEntity] = []\n",
    "for index, row in food_com_df.iterrows():\n",
    "    entities.append(eec.Neo4JEntity(\n",
    "        entity_id=str(index),\n",
    "        entity_source='food_com',\n",
    "        entity_source_id=str(index),\n",
    "        mention=row['phrase'],\n",
    "    ))\n",
    "\n",
    "entity_repository.add_entities(entities)"
   ]
  },
  {
   "cell_type": "code",
   "execution_count": 7,
   "metadata": {},
   "outputs": [],
   "source": [
    "cluster_repository = eec.Neo4JClusterRepository(\n",
    "    entity_repository=entity_repository,\n",
    ")"
   ]
  },
  {
   "cell_type": "code",
   "execution_count": 11,
   "metadata": {},
   "outputs": [
    {
     "data": {
      "text/plain": [
       "Cluster 71006665-cbf6-446a-b4b2-de501068874a-apple"
      ]
     },
     "execution_count": 11,
     "metadata": {},
     "output_type": "execute_result"
    }
   ],
   "source": [
    "cluster_repository.add_cluster(\n",
    "    eec.Neo4JCluster(\n",
    "    cluster_id='',\n",
    "    entities= [],\n",
    "    cluster_name='apple',\n",
    "    ))"
   ]
  },
  {
   "cell_type": "code",
   "execution_count": 12,
   "metadata": {},
   "outputs": [
    {
     "data": {
      "text/plain": [
       "Cluster 27e3b608-6cd3-439e-b18e-afa07651e1c8-lettuce"
      ]
     },
     "execution_count": 12,
     "metadata": {},
     "output_type": "execute_result"
    }
   ],
   "source": [
    "cluster_repository.add_cluster(\n",
    "    eec.Neo4JCluster(\n",
    "    cluster_id='',\n",
    "    entities= [],\n",
    "    cluster_name='lettuce',\n",
    "    ))"
   ]
  },
  {
   "cell_type": "code",
   "execution_count": 8,
   "metadata": {},
   "outputs": [],
   "source": [
    "cluster1 = cluster_repository.get_cluster_by_id('27e3b608-6cd3-439e-b18e-afa07651e1c8')"
   ]
  },
  {
   "cell_type": "code",
   "execution_count": 9,
   "metadata": {},
   "outputs": [
    {
     "data": {
      "text/plain": [
       "[Cluster 71006665-cbf6-446a-b4b2-de501068874a-apple,\n",
       " Cluster 27e3b608-6cd3-439e-b18e-afa07651e1c8-lettuce]"
      ]
     },
     "execution_count": 9,
     "metadata": {},
     "output_type": "execute_result"
    }
   ],
   "source": [
    "cluster_repository.get_all_clusters()"
   ]
  },
  {
   "cell_type": "code",
   "execution_count": 10,
   "metadata": {},
   "outputs": [
    {
     "data": {
      "text/plain": [
       "83336e7d-e04a-4cf7-b041-6568c918c339-romaine lettuce leaf"
      ]
     },
     "execution_count": 10,
     "metadata": {},
     "output_type": "execute_result"
    }
   ],
   "source": [
    "entity_1 = entity_repository.get_entity_by_id('83336e7d-e04a-4cf7-b041-6568c918c339')\n",
    "entity_1"
   ]
  },
  {
   "cell_type": "code",
   "execution_count": 11,
   "metadata": {},
   "outputs": [],
   "source": [
    "cluster_repository.add_entity_to_cluster(cluster1.cluster_id, entity_1.entity_id)"
   ]
  },
  {
   "cell_type": "code",
   "execution_count": 12,
   "metadata": {},
   "outputs": [],
   "source": [
    "entity2 = entity_repository.get_entity_by_id('00d01cc4-09b6-48e8-bcf6-8d05ad885cb8')\n",
    "cluster_repository.add_entity_to_cluster(cluster1.cluster_id, entity2.entity_id)"
   ]
  },
  {
   "cell_type": "code",
   "execution_count": 13,
   "metadata": {},
   "outputs": [],
   "source": [
    "cluster1 = cluster_repository.get_cluster_by_id('27e3b608-6cd3-439e-b18e-afa07651e1c8')"
   ]
  },
  {
   "cell_type": "code",
   "execution_count": 13,
   "metadata": {},
   "outputs": [
    {
     "data": {
      "text/plain": [
       "[83336e7d-e04a-4cf7-b041-6568c918c339-romaine lettuce leaf,\n",
       " 00d01cc4-09b6-48e8-bcf6-8d05ad885cb8-head of lettuce]"
      ]
     },
     "execution_count": 13,
     "metadata": {},
     "output_type": "execute_result"
    }
   ],
   "source": [
    "cluster_repository.remove_entities_from_clusters(cluster_id=cluster1.cluster_id, entity_ids=[entity_1.entity_id, entity2.entity_id])"
   ]
  },
  {
   "cell_type": "code",
   "execution_count": 10,
   "metadata": {},
   "outputs": [
    {
     "data": {
      "text/plain": [
       "5fd30fba-58b6-4700-8c0e-081e9ec461a9-romaine lettuce leaf"
      ]
     },
     "execution_count": 10,
     "metadata": {},
     "output_type": "execute_result"
    }
   ],
   "source": [
    "cluster_repository.remove_entity_from_cluster(cluster_id='58841562-e83a-47ef-a718-b149bba7b9eb', entity_id='5fd30fba-58b6-4700-8c0e-081e9ec461a9')"
   ]
  },
  {
   "cell_type": "code",
   "execution_count": 15,
   "metadata": {},
   "outputs": [],
   "source": [
    "mention_clustering_method = eec.Neo4JMentionClusteringMethod(\n",
    "    name='neo4j_mention_clustering_method',\n",
    "    entity_repository=entity_repository,\n",
    "    cluster_repository=cluster_repository,\n",
    ")"
   ]
  },
  {
   "cell_type": "code",
   "execution_count": 16,
   "metadata": {},
   "outputs": [],
   "source": [
    "eec.EntityClustererBridge().set_cluster_repository(cluster_repository)\n",
    "eec.EntityClustererBridge().set_entity_repository(entity_repository)\n",
    "eec.EntityClustererBridge().set_mention_clustering_method(mention_clustering_method)"
   ]
  },
  {
   "cell_type": "code",
   "execution_count": 17,
   "metadata": {},
   "outputs": [],
   "source": [
    "entity = eec.EntityClustererBridge().entity_repository.get_random_unlabeled_entity()"
   ]
  },
  {
   "cell_type": "code",
   "execution_count": 18,
   "metadata": {},
   "outputs": [
    {
     "data": {
      "text/plain": [
       "6b2e4fe9-4dd3-4ed7-b0df-7a6796fe97c4-red maraschino cherry"
      ]
     },
     "execution_count": 18,
     "metadata": {},
     "output_type": "execute_result"
    }
   ],
   "source": [
    "entity"
   ]
  },
  {
   "cell_type": "code",
   "execution_count": 19,
   "metadata": {},
   "outputs": [
    {
     "ename": "TypeError",
     "evalue": "string indices must be integers",
     "output_type": "error",
     "traceback": [
      "\u001b[0;31m---------------------------------------------------------------------------\u001b[0m",
      "\u001b[0;31mTypeError\u001b[0m                                 Traceback (most recent call last)",
      "Cell \u001b[0;32mIn[19], line 1\u001b[0m\n\u001b[0;32m----> 1\u001b[0m eec\u001b[39m.\u001b[39;49mEntityClustererBridge()\u001b[39m.\u001b[39;49mmention_clustering_method\u001b[39m.\u001b[39;49mgetPossibleClusters(entity)\n",
      "File \u001b[0;32m/opt/miniconda3/envs/eec/lib/python3.10/site-packages/eec/implementations/neo4j/mention_clustering_methods/neo4j_mention_clustering_method.py:48\u001b[0m, in \u001b[0;36mNeo4JMentionClusteringMethod.getPossibleClusters\u001b[0;34m(self, entity)\u001b[0m\n\u001b[1;32m     45\u001b[0m     \u001b[39mself\u001b[39m\u001b[39m.\u001b[39mlogger\u001b[39m.\u001b[39mwarning(\u001b[39m\"\u001b[39m\u001b[39mNo mention vector found Fallback to only string similarity\u001b[39m\u001b[39m\"\u001b[39m)\n\u001b[1;32m     46\u001b[0m     \u001b[39mreturn\u001b[39;00m \u001b[39mself\u001b[39m\u001b[39m.\u001b[39m_fallback_get_possible_clusters(entity)\n\u001b[0;32m---> 48\u001b[0m result \u001b[39m=\u001b[39m \u001b[39mself\u001b[39;49m\u001b[39m.\u001b[39;49mneo4j_helper\u001b[39m.\u001b[39;49mrun_query(\n\u001b[1;32m     49\u001b[0m     Neo4J_GetClosestClustersHelper(\n\u001b[1;32m     50\u001b[0m         \u001b[39mself\u001b[39;49m\u001b[39m.\u001b[39;49mtop_n,\n\u001b[1;32m     51\u001b[0m     entity\u001b[39m.\u001b[39;49mget_mention_vector()\u001b[39m.\u001b[39;49mtolist())\n\u001b[1;32m     52\u001b[0m )\n\u001b[1;32m     54\u001b[0m top_clusters : \u001b[39mlist\u001b[39m[Neo4JCluster] \u001b[39m=\u001b[39m result[\u001b[39m'\u001b[39m\u001b[39mclusters\u001b[39m\u001b[39m'\u001b[39m]\n\u001b[1;32m     55\u001b[0m vector_similarities \u001b[39m=\u001b[39m np\u001b[39m.\u001b[39marray(result[\u001b[39m'\u001b[39m\u001b[39msimilarities\u001b[39m\u001b[39m'\u001b[39m])\n",
      "File \u001b[0;32m/opt/miniconda3/envs/eec/lib/python3.10/site-packages/eec/implementations/neo4j/neo4j_services/neo4j_helper.py:44\u001b[0m, in \u001b[0;36mNeo4JHelper.run_query\u001b[0;34m(self, query_helper)\u001b[0m\n\u001b[1;32m     42\u001b[0m result \u001b[39m=\u001b[39m session\u001b[39m.\u001b[39mrun(query_helper\u001b[39m.\u001b[39mquery, query_helper\u001b[39m.\u001b[39mget_arguments())\n\u001b[1;32m     43\u001b[0m data \u001b[39m=\u001b[39m \u001b[39mlist\u001b[39m(result)\n\u001b[0;32m---> 44\u001b[0m \u001b[39mreturn\u001b[39;00m query_helper\u001b[39m.\u001b[39;49mconsume(data)\n",
      "File \u001b[0;32m/opt/miniconda3/envs/eec/lib/python3.10/site-packages/eec/implementations/neo4j/neo4j_services/query_helpers/method_helpers/get_closest_clusters_helper.py:40\u001b[0m, in \u001b[0;36mNeo4J_GetClosestClustersHelper.consume\u001b[0;34m(self, result)\u001b[0m\n\u001b[1;32m     38\u001b[0m \u001b[39mdef\u001b[39;00m \u001b[39mconsume\u001b[39m(\u001b[39mself\u001b[39m, result: \u001b[39mlist\u001b[39m[Record]) \u001b[39m-\u001b[39m\u001b[39m>\u001b[39m \u001b[39mdict\u001b[39m:\n\u001b[1;32m     39\u001b[0m     \u001b[39mreturn\u001b[39;00m {\n\u001b[0;32m---> 40\u001b[0m         \u001b[39m'\u001b[39m\u001b[39mclusters\u001b[39m\u001b[39m'\u001b[39m: [\n\u001b[1;32m     41\u001b[0m             Neo4JCluster\u001b[39m.\u001b[39mfrom_dict(record[\u001b[39m'\u001b[39m\u001b[39mc\u001b[39m\u001b[39m'\u001b[39m],\n\u001b[1;32m     42\u001b[0m                                    entities\u001b[39m=\u001b[39m[Neo4JEntity\u001b[39m.\u001b[39mfrom_dict(entity)\n\u001b[1;32m     43\u001b[0m                                              \u001b[39mfor\u001b[39;00m entity \u001b[39min\u001b[39;00m record[\u001b[39m'\u001b[39m\u001b[39me\u001b[39m\u001b[39m'\u001b[39m]] \u001b[39mif\u001b[39;00m record[\u001b[39m'\u001b[39m\u001b[39me\u001b[39m\u001b[39m'\u001b[39m] \u001b[39melse\u001b[39;00m [])\n\u001b[1;32m     44\u001b[0m             \u001b[39mfor\u001b[39;00m record \u001b[39min\u001b[39;00m result\n\u001b[1;32m     45\u001b[0m         ],\n\u001b[1;32m     46\u001b[0m         \u001b[39m'\u001b[39m\u001b[39msimilarities\u001b[39m\u001b[39m'\u001b[39m: [record[\u001b[39m'\u001b[39m\u001b[39msimilarity\u001b[39m\u001b[39m'\u001b[39m] \u001b[39mfor\u001b[39;00m record \u001b[39min\u001b[39;00m result]\n\u001b[1;32m     47\u001b[0m     }\n",
      "File \u001b[0;32m/opt/miniconda3/envs/eec/lib/python3.10/site-packages/eec/implementations/neo4j/neo4j_services/query_helpers/method_helpers/get_closest_clusters_helper.py:42\u001b[0m, in \u001b[0;36m<listcomp>\u001b[0;34m(.0)\u001b[0m\n\u001b[1;32m     38\u001b[0m \u001b[39mdef\u001b[39;00m \u001b[39mconsume\u001b[39m(\u001b[39mself\u001b[39m, result: \u001b[39mlist\u001b[39m[Record]) \u001b[39m-\u001b[39m\u001b[39m>\u001b[39m \u001b[39mdict\u001b[39m:\n\u001b[1;32m     39\u001b[0m     \u001b[39mreturn\u001b[39;00m {\n\u001b[1;32m     40\u001b[0m         \u001b[39m'\u001b[39m\u001b[39mclusters\u001b[39m\u001b[39m'\u001b[39m: [\n\u001b[1;32m     41\u001b[0m             Neo4JCluster\u001b[39m.\u001b[39mfrom_dict(record[\u001b[39m'\u001b[39m\u001b[39mc\u001b[39m\u001b[39m'\u001b[39m],\n\u001b[0;32m---> 42\u001b[0m                                    entities\u001b[39m=\u001b[39m[Neo4JEntity\u001b[39m.\u001b[39mfrom_dict(entity)\n\u001b[1;32m     43\u001b[0m                                              \u001b[39mfor\u001b[39;00m entity \u001b[39min\u001b[39;00m record[\u001b[39m'\u001b[39m\u001b[39me\u001b[39m\u001b[39m'\u001b[39m]] \u001b[39mif\u001b[39;00m record[\u001b[39m'\u001b[39m\u001b[39me\u001b[39m\u001b[39m'\u001b[39m] \u001b[39melse\u001b[39;00m [])\n\u001b[1;32m     44\u001b[0m             \u001b[39mfor\u001b[39;00m record \u001b[39min\u001b[39;00m result\n\u001b[1;32m     45\u001b[0m         ],\n\u001b[1;32m     46\u001b[0m         \u001b[39m'\u001b[39m\u001b[39msimilarities\u001b[39m\u001b[39m'\u001b[39m: [record[\u001b[39m'\u001b[39m\u001b[39msimilarity\u001b[39m\u001b[39m'\u001b[39m] \u001b[39mfor\u001b[39;00m record \u001b[39min\u001b[39;00m result]\n\u001b[1;32m     47\u001b[0m     }\n",
      "File \u001b[0;32m/opt/miniconda3/envs/eec/lib/python3.10/site-packages/eec/implementations/neo4j/neo4j_services/query_helpers/method_helpers/get_closest_clusters_helper.py:42\u001b[0m, in \u001b[0;36m<listcomp>\u001b[0;34m(.0)\u001b[0m\n\u001b[1;32m     38\u001b[0m \u001b[39mdef\u001b[39;00m \u001b[39mconsume\u001b[39m(\u001b[39mself\u001b[39m, result: \u001b[39mlist\u001b[39m[Record]) \u001b[39m-\u001b[39m\u001b[39m>\u001b[39m \u001b[39mdict\u001b[39m:\n\u001b[1;32m     39\u001b[0m     \u001b[39mreturn\u001b[39;00m {\n\u001b[1;32m     40\u001b[0m         \u001b[39m'\u001b[39m\u001b[39mclusters\u001b[39m\u001b[39m'\u001b[39m: [\n\u001b[1;32m     41\u001b[0m             Neo4JCluster\u001b[39m.\u001b[39mfrom_dict(record[\u001b[39m'\u001b[39m\u001b[39mc\u001b[39m\u001b[39m'\u001b[39m],\n\u001b[0;32m---> 42\u001b[0m                                    entities\u001b[39m=\u001b[39m[Neo4JEntity\u001b[39m.\u001b[39;49mfrom_dict(entity)\n\u001b[1;32m     43\u001b[0m                                              \u001b[39mfor\u001b[39;00m entity \u001b[39min\u001b[39;00m record[\u001b[39m'\u001b[39m\u001b[39me\u001b[39m\u001b[39m'\u001b[39m]] \u001b[39mif\u001b[39;00m record[\u001b[39m'\u001b[39m\u001b[39me\u001b[39m\u001b[39m'\u001b[39m] \u001b[39melse\u001b[39;00m [])\n\u001b[1;32m     44\u001b[0m             \u001b[39mfor\u001b[39;00m record \u001b[39min\u001b[39;00m result\n\u001b[1;32m     45\u001b[0m         ],\n\u001b[1;32m     46\u001b[0m         \u001b[39m'\u001b[39m\u001b[39msimilarities\u001b[39m\u001b[39m'\u001b[39m: [record[\u001b[39m'\u001b[39m\u001b[39msimilarity\u001b[39m\u001b[39m'\u001b[39m] \u001b[39mfor\u001b[39;00m record \u001b[39min\u001b[39;00m result]\n\u001b[1;32m     47\u001b[0m     }\n",
      "File \u001b[0;32m/opt/miniconda3/envs/eec/lib/python3.10/site-packages/eec/implementations/neo4j/models/neo4j_entity.py:60\u001b[0m, in \u001b[0;36mNeo4JEntity.from_dict\u001b[0;34m(cls, map)\u001b[0m\n\u001b[1;32m     58\u001b[0m \u001b[39m@classmethod\u001b[39m\n\u001b[1;32m     59\u001b[0m \u001b[39mdef\u001b[39;00m \u001b[39mfrom_dict\u001b[39m(\u001b[39mcls\u001b[39m, \u001b[39mmap\u001b[39m: \u001b[39mdict\u001b[39m) \u001b[39m-\u001b[39m\u001b[39m>\u001b[39m \u001b[39m'\u001b[39m\u001b[39mNeo4JEntity\u001b[39m\u001b[39m'\u001b[39m:\n\u001b[0;32m---> 60\u001b[0m     mention_vector \u001b[39m=\u001b[39m np\u001b[39m.\u001b[39masarray(\u001b[39mmap\u001b[39;49m[\u001b[39m\"\u001b[39;49m\u001b[39mmention_vector\u001b[39;49m\u001b[39m\"\u001b[39;49m])\n\u001b[1;32m     61\u001b[0m     \u001b[39mreturn\u001b[39;00m Neo4JEntity(\n\u001b[1;32m     62\u001b[0m         \u001b[39mmap\u001b[39m[\u001b[39m\"\u001b[39m\u001b[39mmention\u001b[39m\u001b[39m\"\u001b[39m], \u001b[39mmap\u001b[39m[\u001b[39m\"\u001b[39m\u001b[39mentity_id\u001b[39m\u001b[39m\"\u001b[39m], \u001b[39mmap\u001b[39m[\u001b[39m\"\u001b[39m\u001b[39mentity_source\u001b[39m\u001b[39m\"\u001b[39m], \u001b[39mmap\u001b[39m[\u001b[39m\"\u001b[39m\u001b[39mentity_source_id\u001b[39m\u001b[39m\"\u001b[39m],\n\u001b[1;32m     63\u001b[0m         \u001b[39mmap\u001b[39m[\u001b[39m\"\u001b[39m\u001b[39mcluster_id\u001b[39m\u001b[39m\"\u001b[39m], mention_vector, \u001b[39mmap\u001b[39m[\u001b[39m\"\u001b[39m\u001b[39mhas_mention_vector\u001b[39m\u001b[39m\"\u001b[39m])\n",
      "\u001b[0;31mTypeError\u001b[0m: string indices must be integers"
     ]
    }
   ],
   "source": [
    "eec.EntityClustererBridge().mention_clustering_method.getPossibleClusters(entity)"
   ]
  },
  {
   "cell_type": "code",
   "execution_count": 22,
   "metadata": {},
   "outputs": [
    {
     "data": {
      "text/plain": [
       "Cluster 1-dip sauce"
      ]
     },
     "execution_count": 22,
     "metadata": {},
     "output_type": "execute_result"
    }
   ],
   "source": [
    "cluster_repository.add_cluster(eec.BaseCluster(\n",
    "    cluster_id='2',\n",
    "    cluster_name='dip sauce',\n",
    "    entities=[],\n",
    "))"
   ]
  },
  {
   "cell_type": "code",
   "execution_count": 23,
   "metadata": {},
   "outputs": [
    {
     "ename": "NotFoundException",
     "evalue": "Cluster with id {cluster_id} not found.",
     "output_type": "error",
     "traceback": [
      "\u001b[0;31m---------------------------------------------------------------------------\u001b[0m",
      "\u001b[0;31mNotFoundException\u001b[0m                         Traceback (most recent call last)",
      "Cell \u001b[0;32mIn[23], line 1\u001b[0m\n\u001b[0;32m----> 1\u001b[0m \u001b[43mcluster_repository\u001b[49m\u001b[38;5;241;43m.\u001b[39;49m\u001b[43madd_entity_to_cluster\u001b[49m\u001b[43m(\u001b[49m\u001b[38;5;241;43m2\u001b[39;49m\u001b[43m,\u001b[49m\u001b[43m \u001b[49m\u001b[43mentity2\u001b[49m\u001b[38;5;241;43m.\u001b[39;49m\u001b[43mentity_id\u001b[49m\u001b[43m)\u001b[49m\n",
      "File \u001b[0;32m/opt/miniconda3/envs/eec/lib/python3.10/site-packages/eec/implementations/base/repositories/base_cluster_repository.py:89\u001b[0m, in \u001b[0;36mBaseClusterRepository.add_entity_to_cluster\u001b[0;34m(self, cluster_id, entity_id)\u001b[0m\n\u001b[1;32m     88\u001b[0m \u001b[38;5;28;01mdef\u001b[39;00m \u001b[38;5;21madd_entity_to_cluster\u001b[39m(\u001b[38;5;28mself\u001b[39m, cluster_id: \u001b[38;5;28mstr\u001b[39m, entity_id: \u001b[38;5;28mstr\u001b[39m):\n\u001b[0;32m---> 89\u001b[0m     cluster \u001b[38;5;241m=\u001b[39m \u001b[38;5;28;43mself\u001b[39;49m\u001b[38;5;241;43m.\u001b[39;49m\u001b[43mget_cluster_by_id\u001b[49m\u001b[43m(\u001b[49m\u001b[43mcluster_id\u001b[49m\u001b[43m)\u001b[49m\n\u001b[1;32m     90\u001b[0m     entity \u001b[38;5;241m=\u001b[39m \u001b[38;5;28mself\u001b[39m\u001b[38;5;241m.\u001b[39mentity_repository\u001b[38;5;241m.\u001b[39mget_entity_by_id(entity_id)\n\u001b[1;32m     91\u001b[0m     cluster\u001b[38;5;241m.\u001b[39madd_entity(entity)\n",
      "File \u001b[0;32m/opt/miniconda3/envs/eec/lib/python3.10/site-packages/eec/implementations/base/repositories/base_cluster_repository.py:24\u001b[0m, in \u001b[0;36mBaseClusterRepository.get_cluster_by_id\u001b[0;34m(self, cluster_id)\u001b[0m\n\u001b[1;32m     22\u001b[0m     \u001b[38;5;28;01mif\u001b[39;00m cluster\u001b[38;5;241m.\u001b[39mcluster_id \u001b[38;5;241m==\u001b[39m cluster_id:\n\u001b[1;32m     23\u001b[0m         \u001b[38;5;28;01mreturn\u001b[39;00m cluster\n\u001b[0;32m---> 24\u001b[0m \u001b[38;5;28;01mraise\u001b[39;00m NotFoundException(\u001b[38;5;124m'\u001b[39m\u001b[38;5;124mCluster with id \u001b[39m\u001b[38;5;132;01m{cluster_id}\u001b[39;00m\u001b[38;5;124m not found.\u001b[39m\u001b[38;5;124m'\u001b[39m)\n",
      "\u001b[0;31mNotFoundException\u001b[0m: Cluster with id {cluster_id} not found."
     ]
    }
   ],
   "source": [
    "cluster_repository.add_entity_to_cluster('2', entity2.entity_id)"
   ]
  },
  {
   "cell_type": "code",
   "execution_count": 19,
   "metadata": {},
   "outputs": [],
   "source": [
    "entity2 = eec.EntityClustererBridge().entity_repository.get_random_unlabeled_entity()"
   ]
  },
  {
   "cell_type": "code",
   "execution_count": 20,
   "metadata": {},
   "outputs": [
    {
     "data": {
      "text/plain": [
       "8883-spinach dip"
      ]
     },
     "execution_count": 20,
     "metadata": {},
     "output_type": "execute_result"
    }
   ],
   "source": [
    "entity2"
   ]
  },
  {
   "cell_type": "code",
   "execution_count": 21,
   "metadata": {},
   "outputs": [
    {
     "data": {
      "text/plain": [
       "[Cluster 0-cabbage]"
      ]
     },
     "execution_count": 21,
     "metadata": {},
     "output_type": "execute_result"
    }
   ],
   "source": [
    "eec.EntityClustererBridge().mention_clustering_method.getPossibleClusters(entity2)"
   ]
  },
  {
   "cell_type": "code",
   "execution_count": null,
   "metadata": {},
   "outputs": [],
   "source": []
  }
 ],
 "metadata": {
  "kernelspec": {
   "display_name": "Python 3 (ipykernel)",
   "language": "python",
   "name": "python3"
  },
  "language_info": {
   "codemirror_mode": {
    "name": "ipython",
    "version": 3
   },
   "file_extension": ".py",
   "mimetype": "text/x-python",
   "name": "python",
   "nbconvert_exporter": "python",
   "pygments_lexer": "ipython3",
   "version": "3.10.9"
  },
  "vscode": {
   "interpreter": {
    "hash": "000ed022742aac8827f7dc68da0b92291e4ecaee3988165432121e10873c1863"
   }
  }
 },
 "nbformat": 4,
 "nbformat_minor": 2
}
