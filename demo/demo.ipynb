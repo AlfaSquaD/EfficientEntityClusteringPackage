{
 "cells": [
  {
   "cell_type": "code",
   "execution_count": 1,
   "metadata": {},
   "outputs": [],
   "source": [
    "import eec\n",
    "import numpy as np\n",
    "import gensim\n",
    "import pandas as pd"
   ]
  },
  {
   "cell_type": "code",
   "execution_count": 2,
   "metadata": {},
   "outputs": [],
   "source": [
    "keyed_vectors = gensim.models.KeyedVectors.load('./data/word2vec.model')"
   ]
  },
  {
   "cell_type": "code",
   "execution_count": 3,
   "metadata": {},
   "outputs": [
    {
     "data": {
      "text/plain": [
       "[('romaine', 0.8329761028289795),\n",
       " ('head', 0.7326541543006897),\n",
       " ('boston', 0.7135635614395142),\n",
       " ('cabbage', 0.7096205353736877),\n",
       " ('rack', 0.6752064228057861),\n",
       " ('spring', 0.6698594093322754),\n",
       " ('turnip', 0.6696361303329468),\n",
       " ('pig', 0.6667503714561462),\n",
       " ('cup', 0.6314897537231445),\n",
       " ('kaffir', 0.6175163388252258)]"
      ]
     },
     "execution_count": 3,
     "metadata": {},
     "output_type": "execute_result"
    }
   ],
   "source": [
    "keyed_vectors.wv.most_similar('lettuce')"
   ]
  },
  {
   "cell_type": "code",
   "execution_count": 4,
   "metadata": {},
   "outputs": [],
   "source": [
    "entity_repository = eec.BaseEntityRepository(\n",
    "    entities= [],\n",
    "    keyed_vectors=keyed_vectors,\n",
    "    last_id=0   \n",
    ")"
   ]
  },
  {
   "cell_type": "code",
   "execution_count": 5,
   "metadata": {},
   "outputs": [
    {
     "data": {
      "text/html": [
       "<div>\n",
       "<style scoped>\n",
       "    .dataframe tbody tr th:only-of-type {\n",
       "        vertical-align: middle;\n",
       "    }\n",
       "\n",
       "    .dataframe tbody tr th {\n",
       "        vertical-align: top;\n",
       "    }\n",
       "\n",
       "    .dataframe thead th {\n",
       "        text-align: right;\n",
       "    }\n",
       "</style>\n",
       "<table border=\"1\" class=\"dataframe\">\n",
       "  <thead>\n",
       "    <tr style=\"text-align: right;\">\n",
       "      <th></th>\n",
       "      <th>id</th>\n",
       "      <th>phrase</th>\n",
       "      <th>target</th>\n",
       "    </tr>\n",
       "  </thead>\n",
       "  <tbody>\n",
       "    <tr>\n",
       "      <th>0</th>\n",
       "      <td>4308</td>\n",
       "      <td>medium heads bibb or red leaf lettuce, washed,...</td>\n",
       "      <td>lettuce</td>\n",
       "    </tr>\n",
       "    <tr>\n",
       "      <th>1</th>\n",
       "      <td>4308</td>\n",
       "      <td>mixed baby lettuces and spring greens</td>\n",
       "      <td>lettuce</td>\n",
       "    </tr>\n",
       "    <tr>\n",
       "      <th>2</th>\n",
       "      <td>4308</td>\n",
       "      <td>romaine lettuce leaf</td>\n",
       "      <td>lettuce</td>\n",
       "    </tr>\n",
       "    <tr>\n",
       "      <th>3</th>\n",
       "      <td>4308</td>\n",
       "      <td>iceberg lettuce leaf</td>\n",
       "      <td>lettuce</td>\n",
       "    </tr>\n",
       "    <tr>\n",
       "      <th>4</th>\n",
       "      <td>4308</td>\n",
       "      <td>red romaine lettuce</td>\n",
       "      <td>lettuce</td>\n",
       "    </tr>\n",
       "    <tr>\n",
       "      <th>...</th>\n",
       "      <td>...</td>\n",
       "      <td>...</td>\n",
       "      <td>...</td>\n",
       "    </tr>\n",
       "    <tr>\n",
       "      <th>11654</th>\n",
       "      <td>6702</td>\n",
       "      <td>soybeans</td>\n",
       "      <td>soybean</td>\n",
       "    </tr>\n",
       "    <tr>\n",
       "      <th>11655</th>\n",
       "      <td>3318</td>\n",
       "      <td>goose</td>\n",
       "      <td>goose</td>\n",
       "    </tr>\n",
       "    <tr>\n",
       "      <th>11656</th>\n",
       "      <td>47</td>\n",
       "      <td>ajwain</td>\n",
       "      <td>ajwain</td>\n",
       "    </tr>\n",
       "    <tr>\n",
       "      <th>11657</th>\n",
       "      <td>750</td>\n",
       "      <td>brinjals</td>\n",
       "      <td>brinjal</td>\n",
       "    </tr>\n",
       "    <tr>\n",
       "      <th>11658</th>\n",
       "      <td>4061</td>\n",
       "      <td>khoya</td>\n",
       "      <td>khoya</td>\n",
       "    </tr>\n",
       "  </tbody>\n",
       "</table>\n",
       "<p>11659 rows × 3 columns</p>\n",
       "</div>"
      ],
      "text/plain": [
       "         id                                             phrase   target\n",
       "0      4308  medium heads bibb or red leaf lettuce, washed,...  lettuce\n",
       "1      4308              mixed baby lettuces and spring greens  lettuce\n",
       "2      4308                               romaine lettuce leaf  lettuce\n",
       "3      4308                               iceberg lettuce leaf  lettuce\n",
       "4      4308                                red romaine lettuce  lettuce\n",
       "...     ...                                                ...      ...\n",
       "11654  6702                                           soybeans  soybean\n",
       "11655  3318                                              goose    goose\n",
       "11656    47                                             ajwain   ajwain\n",
       "11657   750                                           brinjals  brinjal\n",
       "11658  4061                                              khoya    khoya\n",
       "\n",
       "[11659 rows x 3 columns]"
      ]
     },
     "execution_count": 5,
     "metadata": {},
     "output_type": "execute_result"
    }
   ],
   "source": [
    "food_com_df = pd.read_csv('./data/all.csv')\n",
    "food_com_df"
   ]
  },
  {
   "cell_type": "code",
   "execution_count": 6,
   "metadata": {},
   "outputs": [],
   "source": [
    "entities : list[eec.BaseEntity] = []\n",
    "for index, row in food_com_df.iterrows():\n",
    "    entities.append(eec.BaseEntity(\n",
    "        entity_id=str(index),\n",
    "        entity_source='food_com',\n",
    "        entity_source_id=str(index),\n",
    "        mention=row['phrase'],\n",
    "    ))\n",
    "\n",
    "entity_repository.add_entities(entities)"
   ]
  },
  {
   "cell_type": "code",
   "execution_count": 7,
   "metadata": {},
   "outputs": [],
   "source": [
    "cluster_repository = eec.BaseClusterRepository(\n",
    "    entity_repository=entity_repository,\n",
    "    clusters=[],\n",
    ")"
   ]
  },
  {
   "cell_type": "code",
   "execution_count": 8,
   "metadata": {},
   "outputs": [],
   "source": [
    "mention_clustering_method = eec.BaseMentionClusteringMethod(\n",
    "    name='mention_clustering_method',\n",
    "    entity_repository=entity_repository,\n",
    "    cluster_repository=cluster_repository,\n",
    ")"
   ]
  },
  {
   "cell_type": "code",
   "execution_count": 9,
   "metadata": {},
   "outputs": [],
   "source": [
    "entity_clusterer_bridge = eec.EntityClustererBridge(\n",
    "    entity_repository=entity_repository,\n",
    "    cluster_repository=cluster_repository,\n",
    "    mention_clustering_method=mention_clustering_method,)"
   ]
  },
  {
   "cell_type": "code",
   "execution_count": 10,
   "metadata": {},
   "outputs": [],
   "source": [
    "entity = entity_clusterer_bridge.entity_repository.get_random_unlabeled_entity()"
   ]
  },
  {
   "cell_type": "code",
   "execution_count": 11,
   "metadata": {},
   "outputs": [
    {
     "data": {
      "text/plain": [
       "1-medium heads bibb or red leaf lettuce, washed, dried* and torn into pieces"
      ]
     },
     "execution_count": 11,
     "metadata": {},
     "output_type": "execute_result"
    }
   ],
   "source": [
    "entity"
   ]
  },
  {
   "cell_type": "code",
   "execution_count": 12,
   "metadata": {},
   "outputs": [
    {
     "name": "stdout",
     "output_type": "stream",
     "text": [
      "No cluster vectors found Fallback to only string similarity\n",
      "Fallback failed! Create new cluster\n"
     ]
    },
    {
     "data": {
      "text/plain": [
       "[]"
      ]
     },
     "execution_count": 12,
     "metadata": {},
     "output_type": "execute_result"
    }
   ],
   "source": [
    "entity_clusterer_bridge.mention_clustering_method.getPossibleClusters(entity)"
   ]
  },
  {
   "cell_type": "code",
   "execution_count": 13,
   "metadata": {},
   "outputs": [],
   "source": [
    "cluster_repository.add_cluster(eec.BaseCluster(\n",
    "    cluster_id='1',\n",
    "    cluster_name='lettuce',\n",
    "    entities=[],\n",
    "))"
   ]
  },
  {
   "cell_type": "code",
   "execution_count": 16,
   "metadata": {},
   "outputs": [],
   "source": [
    "cluster_repository.add_entity_to_cluster('0', entity.entity_id)"
   ]
  },
  {
   "cell_type": "code",
   "execution_count": 17,
   "metadata": {},
   "outputs": [],
   "source": [
    "entity2 = entity_clusterer_bridge.entity_repository.get_random_unlabeled_entity()"
   ]
  },
  {
   "cell_type": "code",
   "execution_count": 18,
   "metadata": {},
   "outputs": [
    {
     "data": {
      "text/plain": [
       "2-mixed baby lettuces and spring greens"
      ]
     },
     "execution_count": 18,
     "metadata": {},
     "output_type": "execute_result"
    }
   ],
   "source": [
    "entity2"
   ]
  },
  {
   "cell_type": "code",
   "execution_count": 19,
   "metadata": {},
   "outputs": [
    {
     "data": {
      "text/plain": [
       "[Cluster 0-lettuce]"
      ]
     },
     "execution_count": 19,
     "metadata": {},
     "output_type": "execute_result"
    }
   ],
   "source": [
    "entity_clusterer_bridge.mention_clustering_method.getPossibleClusters(entity2)"
   ]
  },
  {
   "cell_type": "code",
   "execution_count": null,
   "metadata": {},
   "outputs": [],
   "source": []
  }
 ],
 "metadata": {
  "kernelspec": {
   "display_name": "Python 3 (ipykernel)",
   "language": "python",
   "name": "python3"
  },
  "vscode": {
   "interpreter": {
    "hash": "000ed022742aac8827f7dc68da0b92291e4ecaee3988165432121e10873c1863"
   }
  }
 },
 "nbformat": 4,
 "nbformat_minor": 2
}
