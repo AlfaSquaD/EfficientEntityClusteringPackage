{
 "cells": [
  {
   "cell_type": "code",
   "execution_count": 1,
   "metadata": {},
   "outputs": [],
   "source": [
    "import eec\n",
    "import numpy as np\n",
    "import gensim\n",
    "import pandas as pd\n",
    "from neo4j import GraphDatabase"
   ]
  },
  {
   "cell_type": "code",
   "execution_count": 2,
   "metadata": {},
   "outputs": [],
   "source": [
    "keyed_vectors = gensim.models.KeyedVectors.load('./data/word2vec.model')"
   ]
  },
  {
   "cell_type": "code",
   "execution_count": 3,
   "metadata": {},
   "outputs": [
    {
     "data": {
      "text/plain": [
       "[('romaine', 0.8329761028289795),\n",
       " ('head', 0.7326541543006897),\n",
       " ('boston', 0.7135635614395142),\n",
       " ('cabbage', 0.7096205353736877),\n",
       " ('rack', 0.6752064228057861),\n",
       " ('spring', 0.6698594093322754),\n",
       " ('turnip', 0.6696361303329468),\n",
       " ('pig', 0.6667503714561462),\n",
       " ('cup', 0.6314897537231445),\n",
       " ('kaffir', 0.6175163388252258)]"
      ]
     },
     "execution_count": 3,
     "metadata": {},
     "output_type": "execute_result"
    }
   ],
   "source": [
    "keyed_vectors.wv.most_similar('lettuce')"
   ]
  },
  {
   "cell_type": "code",
   "execution_count": 4,
   "metadata": {},
   "outputs": [],
   "source": [
    "driver = GraphDatabase.driver(\"bolt://localhost:7687\", auth=(\"neo4j\", \"test\"))"
   ]
  },
  {
   "cell_type": "code",
   "execution_count": 5,
   "metadata": {},
   "outputs": [],
   "source": [
    "entity_repository = eec.Neo4JEntityRepository(\n",
    "    driver=driver,\n",
    "    keyed_vectors=keyed_vectors, \n",
    ")"
   ]
  },
  {
   "cell_type": "code",
   "execution_count": 6,
   "metadata": {},
   "outputs": [
    {
     "data": {
      "text/plain": [
       "6b165ea3-9812-47dc-a322-6783010a36e1-lettuce"
      ]
     },
     "execution_count": 6,
     "metadata": {},
     "output_type": "execute_result"
    }
   ],
   "source": [
    "entity_repository.add_entity(\n",
    "    eec.Neo4JEntity(\n",
    "        entity_id='',\n",
    "        entity_source='demo',\n",
    "        entity_source_id='0',\n",
    "        mention='lettuce',\n",
    "        mention_vector=keyed_vectors.wv['lettuce'],\n",
    "        has_mention_vector=True,)\n",
    "\n",
    ")"
   ]
  },
  {
   "cell_type": "code",
   "execution_count": 7,
   "metadata": {},
   "outputs": [
    {
     "data": {
      "text/plain": [
       "[6b165ea3-9812-47dc-a322-6783010a36e1-lettuce]"
      ]
     },
     "execution_count": 7,
     "metadata": {},
     "output_type": "execute_result"
    }
   ],
   "source": [
    "entity_repository.get_all_entities()"
   ]
  },
  {
   "cell_type": "code",
   "execution_count": 8,
   "metadata": {},
   "outputs": [],
   "source": [
    "entity_repository.add_entities([\n",
    "    eec.Neo4JEntity(\n",
    "        entity_id='',\n",
    "        entity_source='demo',\n",
    "        entity_source_id='1',\n",
    "        mention='apple',\n",
    "        mention_vector=keyed_vectors.wv['apple'],\n",
    "        has_mention_vector=True,\n",
    "    ),\n",
    "    eec.Neo4JEntity(\n",
    "        entity_id='',\n",
    "        entity_source='demo',\n",
    "        entity_source_id='2',\n",
    "        mention='banana',\n",
    "        mention_vector=keyed_vectors.wv['banana'],\n",
    "        has_mention_vector=True,\n",
    "    ),\n",
    "])"
   ]
  },
  {
   "cell_type": "code",
   "execution_count": 10,
   "metadata": {},
   "outputs": [
    {
     "data": {
      "text/plain": [
       "[6b165ea3-9812-47dc-a322-6783010a36e1-lettuce,\n",
       " 1caea45f-8fa4-4158-b09b-c387771966f9-apple,\n",
       " db15c83d-532e-472a-b154-435c3d69c9a2-banana]"
      ]
     },
     "execution_count": 10,
     "metadata": {},
     "output_type": "execute_result"
    }
   ],
   "source": [
    "entity_repository.get_all_entities()"
   ]
  },
  {
   "cell_type": "code",
   "execution_count": 13,
   "metadata": {},
   "outputs": [
    {
     "data": {
      "text/plain": [
       "6b165ea3-9812-47dc-a322-6783010a36e1-lettuce"
      ]
     },
     "execution_count": 13,
     "metadata": {},
     "output_type": "execute_result"
    }
   ],
   "source": [
    "entity_repository.get_entity_by_id('6b165ea3-9812-47dc-a322-6783010a36e1')"
   ]
  },
  {
   "cell_type": "code",
   "execution_count": 21,
   "metadata": {},
   "outputs": [
    {
     "data": {
      "text/plain": [
       "6b165ea3-9812-47dc-a322-6783010a36e1-lettuce"
      ]
     },
     "execution_count": 21,
     "metadata": {},
     "output_type": "execute_result"
    }
   ],
   "source": [
    "entity_repository.get_random_unlabeled_entity()"
   ]
  },
  {
   "cell_type": "code",
   "execution_count": 22,
   "metadata": {},
   "outputs": [
    {
     "data": {
      "text/plain": [
       "[6b165ea3-9812-47dc-a322-6783010a36e1-lettuce,\n",
       " db15c83d-532e-472a-b154-435c3d69c9a2-banana]"
      ]
     },
     "execution_count": 22,
     "metadata": {},
     "output_type": "execute_result"
    }
   ],
   "source": [
    "entity_repository.get_random_unlabeled_entities(2)"
   ]
  },
  {
   "cell_type": "code",
   "execution_count": 23,
   "metadata": {},
   "outputs": [],
   "source": [
    "entity_repository.calculate_all_entity_vectors()"
   ]
  },
  {
   "cell_type": "code",
   "execution_count": 29,
   "metadata": {},
   "outputs": [
    {
     "data": {
      "text/html": [
       "<div>\n",
       "<style scoped>\n",
       "    .dataframe tbody tr th:only-of-type {\n",
       "        vertical-align: middle;\n",
       "    }\n",
       "\n",
       "    .dataframe tbody tr th {\n",
       "        vertical-align: top;\n",
       "    }\n",
       "\n",
       "    .dataframe thead th {\n",
       "        text-align: right;\n",
       "    }\n",
       "</style>\n",
       "<table border=\"1\" class=\"dataframe\">\n",
       "  <thead>\n",
       "    <tr style=\"text-align: right;\">\n",
       "      <th></th>\n",
       "      <th>id</th>\n",
       "      <th>phrase</th>\n",
       "      <th>target</th>\n",
       "      <th>id_phrase</th>\n",
       "    </tr>\n",
       "  </thead>\n",
       "  <tbody>\n",
       "    <tr>\n",
       "      <th>0</th>\n",
       "      <td>4308</td>\n",
       "      <td>medium heads bibb or red leaf lettuce, washed,...</td>\n",
       "      <td>lettuce</td>\n",
       "      <td>0</td>\n",
       "    </tr>\n",
       "    <tr>\n",
       "      <th>1</th>\n",
       "      <td>4308</td>\n",
       "      <td>mixed baby lettuces and spring greens</td>\n",
       "      <td>lettuce</td>\n",
       "      <td>1</td>\n",
       "    </tr>\n",
       "    <tr>\n",
       "      <th>2</th>\n",
       "      <td>4308</td>\n",
       "      <td>romaine lettuce leaf</td>\n",
       "      <td>lettuce</td>\n",
       "      <td>2</td>\n",
       "    </tr>\n",
       "    <tr>\n",
       "      <th>3</th>\n",
       "      <td>4308</td>\n",
       "      <td>iceberg lettuce leaf</td>\n",
       "      <td>lettuce</td>\n",
       "      <td>3</td>\n",
       "    </tr>\n",
       "    <tr>\n",
       "      <th>4</th>\n",
       "      <td>4308</td>\n",
       "      <td>red romaine lettuce</td>\n",
       "      <td>lettuce</td>\n",
       "      <td>4</td>\n",
       "    </tr>\n",
       "    <tr>\n",
       "      <th>...</th>\n",
       "      <td>...</td>\n",
       "      <td>...</td>\n",
       "      <td>...</td>\n",
       "      <td>...</td>\n",
       "    </tr>\n",
       "    <tr>\n",
       "      <th>11654</th>\n",
       "      <td>6702</td>\n",
       "      <td>soybeans</td>\n",
       "      <td>soybean</td>\n",
       "      <td>11654</td>\n",
       "    </tr>\n",
       "    <tr>\n",
       "      <th>11655</th>\n",
       "      <td>3318</td>\n",
       "      <td>goose</td>\n",
       "      <td>goose</td>\n",
       "      <td>11655</td>\n",
       "    </tr>\n",
       "    <tr>\n",
       "      <th>11656</th>\n",
       "      <td>47</td>\n",
       "      <td>ajwain</td>\n",
       "      <td>ajwain</td>\n",
       "      <td>11656</td>\n",
       "    </tr>\n",
       "    <tr>\n",
       "      <th>11657</th>\n",
       "      <td>750</td>\n",
       "      <td>brinjals</td>\n",
       "      <td>brinjal</td>\n",
       "      <td>11657</td>\n",
       "    </tr>\n",
       "    <tr>\n",
       "      <th>11658</th>\n",
       "      <td>4061</td>\n",
       "      <td>khoya</td>\n",
       "      <td>khoya</td>\n",
       "      <td>11658</td>\n",
       "    </tr>\n",
       "  </tbody>\n",
       "</table>\n",
       "<p>11659 rows × 4 columns</p>\n",
       "</div>"
      ],
      "text/plain": [
       "         id                                             phrase   target  \\\n",
       "0      4308  medium heads bibb or red leaf lettuce, washed,...  lettuce   \n",
       "1      4308              mixed baby lettuces and spring greens  lettuce   \n",
       "2      4308                               romaine lettuce leaf  lettuce   \n",
       "3      4308                               iceberg lettuce leaf  lettuce   \n",
       "4      4308                                red romaine lettuce  lettuce   \n",
       "...     ...                                                ...      ...   \n",
       "11654  6702                                           soybeans  soybean   \n",
       "11655  3318                                              goose    goose   \n",
       "11656    47                                             ajwain   ajwain   \n",
       "11657   750                                           brinjals  brinjal   \n",
       "11658  4061                                              khoya    khoya   \n",
       "\n",
       "       id_phrase  \n",
       "0              0  \n",
       "1              1  \n",
       "2              2  \n",
       "3              3  \n",
       "4              4  \n",
       "...          ...  \n",
       "11654      11654  \n",
       "11655      11655  \n",
       "11656      11656  \n",
       "11657      11657  \n",
       "11658      11658  \n",
       "\n",
       "[11659 rows x 4 columns]"
      ]
     },
     "execution_count": 29,
     "metadata": {},
     "output_type": "execute_result"
    }
   ],
   "source": [
    "food_com_df = pd.read_csv('./data/all.csv')\n",
    "food_com_df"
   ]
  },
  {
   "cell_type": "code",
   "execution_count": 30,
   "metadata": {},
   "outputs": [],
   "source": [
    "entities : list[eec.Neo4JEntity] = []\n",
    "for index, row in food_com_df.iterrows():\n",
    "    entities.append(eec.Neo4JEntity(\n",
    "        entity_id=str(index),\n",
    "        entity_source='food_com',\n",
    "        entity_source_id=str(index),\n",
    "        mention=row['phrase'],\n",
    "    ))\n",
    "\n",
    "entity_repository.add_entities(entities)"
   ]
  },
  {
   "cell_type": "code",
   "execution_count": 8,
   "metadata": {},
   "outputs": [],
   "source": [
    "cluster_repository = eec.BaseClusterRepository(\n",
    "    entity_repository=entity_repository,\n",
    "    clusters=[],\n",
    ")"
   ]
  },
  {
   "cell_type": "code",
   "execution_count": 9,
   "metadata": {},
   "outputs": [],
   "source": [
    "mention_clustering_method = eec.BaseMentionClusteringMethod(\n",
    "    name='mention_clustering_method',\n",
    "    entity_repository=entity_repository,\n",
    "    cluster_repository=cluster_repository,\n",
    ")"
   ]
  },
  {
   "cell_type": "code",
   "execution_count": 10,
   "metadata": {},
   "outputs": [],
   "source": [
    "eec.EntityClustererBridge().set_cluster_repository(cluster_repository)\n",
    "eec.EntityClustererBridge().set_entity_repository(entity_repository)\n",
    "eec.EntityClustererBridge().set_mention_clustering_method(mention_clustering_method)"
   ]
  },
  {
   "cell_type": "code",
   "execution_count": 11,
   "metadata": {},
   "outputs": [],
   "source": [
    "entity = eec.EntityClustererBridge().entity_repository.get_random_unlabeled_entity()"
   ]
  },
  {
   "cell_type": "code",
   "execution_count": 12,
   "metadata": {},
   "outputs": [
    {
     "data": {
      "text/plain": [
       "30-romaine lettuce"
      ]
     },
     "execution_count": 12,
     "metadata": {},
     "output_type": "execute_result"
    }
   ],
   "source": [
    "entity"
   ]
  },
  {
   "cell_type": "code",
   "execution_count": 13,
   "metadata": {},
   "outputs": [
    {
     "name": "stderr",
     "output_type": "stream",
     "text": [
      "No cluster vectors found Fallback to only string similarity\n",
      "Fallback failed! Create new cluster!\n"
     ]
    },
    {
     "data": {
      "text/plain": [
       "[]"
      ]
     },
     "execution_count": 13,
     "metadata": {},
     "output_type": "execute_result"
    }
   ],
   "source": [
    "eec.EntityClustererBridge().mention_clustering_method.getPossibleClusters(entity)"
   ]
  },
  {
   "cell_type": "code",
   "execution_count": 22,
   "metadata": {},
   "outputs": [
    {
     "data": {
      "text/plain": [
       "Cluster 1-dip sauce"
      ]
     },
     "execution_count": 22,
     "metadata": {},
     "output_type": "execute_result"
    }
   ],
   "source": [
    "cluster_repository.add_cluster(eec.BaseCluster(\n",
    "    cluster_id='2',\n",
    "    cluster_name='dip sauce',\n",
    "    entities=[],\n",
    "))"
   ]
  },
  {
   "cell_type": "code",
   "execution_count": 23,
   "metadata": {},
   "outputs": [
    {
     "ename": "NotFoundException",
     "evalue": "Cluster with id {cluster_id} not found.",
     "output_type": "error",
     "traceback": [
      "\u001b[0;31m---------------------------------------------------------------------------\u001b[0m",
      "\u001b[0;31mNotFoundException\u001b[0m                         Traceback (most recent call last)",
      "Cell \u001b[0;32mIn[23], line 1\u001b[0m\n\u001b[0;32m----> 1\u001b[0m \u001b[43mcluster_repository\u001b[49m\u001b[38;5;241;43m.\u001b[39;49m\u001b[43madd_entity_to_cluster\u001b[49m\u001b[43m(\u001b[49m\u001b[38;5;241;43m2\u001b[39;49m\u001b[43m,\u001b[49m\u001b[43m \u001b[49m\u001b[43mentity2\u001b[49m\u001b[38;5;241;43m.\u001b[39;49m\u001b[43mentity_id\u001b[49m\u001b[43m)\u001b[49m\n",
      "File \u001b[0;32m/opt/miniconda3/envs/eec/lib/python3.10/site-packages/eec/implementations/base/repositories/base_cluster_repository.py:89\u001b[0m, in \u001b[0;36mBaseClusterRepository.add_entity_to_cluster\u001b[0;34m(self, cluster_id, entity_id)\u001b[0m\n\u001b[1;32m     88\u001b[0m \u001b[38;5;28;01mdef\u001b[39;00m \u001b[38;5;21madd_entity_to_cluster\u001b[39m(\u001b[38;5;28mself\u001b[39m, cluster_id: \u001b[38;5;28mstr\u001b[39m, entity_id: \u001b[38;5;28mstr\u001b[39m):\n\u001b[0;32m---> 89\u001b[0m     cluster \u001b[38;5;241m=\u001b[39m \u001b[38;5;28;43mself\u001b[39;49m\u001b[38;5;241;43m.\u001b[39;49m\u001b[43mget_cluster_by_id\u001b[49m\u001b[43m(\u001b[49m\u001b[43mcluster_id\u001b[49m\u001b[43m)\u001b[49m\n\u001b[1;32m     90\u001b[0m     entity \u001b[38;5;241m=\u001b[39m \u001b[38;5;28mself\u001b[39m\u001b[38;5;241m.\u001b[39mentity_repository\u001b[38;5;241m.\u001b[39mget_entity_by_id(entity_id)\n\u001b[1;32m     91\u001b[0m     cluster\u001b[38;5;241m.\u001b[39madd_entity(entity)\n",
      "File \u001b[0;32m/opt/miniconda3/envs/eec/lib/python3.10/site-packages/eec/implementations/base/repositories/base_cluster_repository.py:24\u001b[0m, in \u001b[0;36mBaseClusterRepository.get_cluster_by_id\u001b[0;34m(self, cluster_id)\u001b[0m\n\u001b[1;32m     22\u001b[0m     \u001b[38;5;28;01mif\u001b[39;00m cluster\u001b[38;5;241m.\u001b[39mcluster_id \u001b[38;5;241m==\u001b[39m cluster_id:\n\u001b[1;32m     23\u001b[0m         \u001b[38;5;28;01mreturn\u001b[39;00m cluster\n\u001b[0;32m---> 24\u001b[0m \u001b[38;5;28;01mraise\u001b[39;00m NotFoundException(\u001b[38;5;124m'\u001b[39m\u001b[38;5;124mCluster with id \u001b[39m\u001b[38;5;132;01m{cluster_id}\u001b[39;00m\u001b[38;5;124m not found.\u001b[39m\u001b[38;5;124m'\u001b[39m)\n",
      "\u001b[0;31mNotFoundException\u001b[0m: Cluster with id {cluster_id} not found."
     ]
    }
   ],
   "source": [
    "cluster_repository.add_entity_to_cluster('2', entity2.entity_id)"
   ]
  },
  {
   "cell_type": "code",
   "execution_count": 19,
   "metadata": {},
   "outputs": [],
   "source": [
    "entity2 = eec.EntityClustererBridge().entity_repository.get_random_unlabeled_entity()"
   ]
  },
  {
   "cell_type": "code",
   "execution_count": 20,
   "metadata": {},
   "outputs": [
    {
     "data": {
      "text/plain": [
       "8883-spinach dip"
      ]
     },
     "execution_count": 20,
     "metadata": {},
     "output_type": "execute_result"
    }
   ],
   "source": [
    "entity2"
   ]
  },
  {
   "cell_type": "code",
   "execution_count": 21,
   "metadata": {},
   "outputs": [
    {
     "data": {
      "text/plain": [
       "[Cluster 0-cabbage]"
      ]
     },
     "execution_count": 21,
     "metadata": {},
     "output_type": "execute_result"
    }
   ],
   "source": [
    "eec.EntityClustererBridge().mention_clustering_method.getPossibleClusters(entity2)"
   ]
  },
  {
   "cell_type": "code",
   "execution_count": null,
   "metadata": {},
   "outputs": [],
   "source": []
  }
 ],
 "metadata": {
  "kernelspec": {
   "display_name": "Python 3 (ipykernel)",
   "language": "python",
   "name": "python3"
  },
  "language_info": {
   "codemirror_mode": {
    "name": "ipython",
    "version": 3
   },
   "file_extension": ".py",
   "mimetype": "text/x-python",
   "name": "python",
   "nbconvert_exporter": "python",
   "pygments_lexer": "ipython3",
   "version": "3.10.9"
  },
  "vscode": {
   "interpreter": {
    "hash": "000ed022742aac8827f7dc68da0b92291e4ecaee3988165432121e10873c1863"
   }
  }
 },
 "nbformat": 4,
 "nbformat_minor": 2
}
